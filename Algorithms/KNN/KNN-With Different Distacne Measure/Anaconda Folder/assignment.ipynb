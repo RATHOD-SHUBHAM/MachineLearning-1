{
 "cells": [
  {
   "cell_type": "markdown",
   "metadata": {},
   "source": [
    "# All the required libraries"
   ]
  },
  {
   "cell_type": "code",
   "execution_count": 1,
   "metadata": {},
   "outputs": [],
   "source": [
    "# All the required Libraries are here\n",
    "import pandas as pd\n",
    "import random as r\n",
    "from random import seed\n",
    "from math import sqrt"
   ]
  },
  {
   "cell_type": "markdown",
   "metadata": {},
   "source": [
    "# Function to read values from .csv file"
   ]
  },
  {
   "cell_type": "code",
   "execution_count": 2,
   "metadata": {},
   "outputs": [],
   "source": [
    "def read_csv(file_name):\n",
    "    df = pd.read_csv(file_name,delimiter=',',header = None)\n",
    "#     print(df)\n",
    "    dataset = [list(row) for row in df.values]\n",
    "    dataset.insert(0, df.columns.to_list())\n",
    "    return dataset"
   ]
  },
  {
   "cell_type": "markdown",
   "metadata": {},
   "source": [
    "# Function to convert column values into float"
   ]
  },
  {
   "cell_type": "code",
   "execution_count": 3,
   "metadata": {},
   "outputs": [],
   "source": [
    "def str_column_into_float(dataset,column):\n",
    "    for row in dataset:\n",
    "        row[column] = float(row[column])\n",
    "#     print('\\n\\n')\n",
    "#     print(type(row[column]))"
   ]
  },
  {
   "cell_type": "markdown",
   "metadata": {},
   "source": [
    "# Function to convert column values into int"
   ]
  },
  {
   "cell_type": "code",
   "execution_count": 4,
   "metadata": {},
   "outputs": [],
   "source": [
    "def str_column_into_int(dataset,column):\n",
    "    for row in dataset:\n",
    "        row[column] = int(row[column])"
   ]
  },
  {
   "cell_type": "markdown",
   "metadata": {},
   "source": [
    "# Functions to convert class values into numeric integer"
   ]
  },
  {
   "cell_type": "code",
   "execution_count": 5,
   "metadata": {},
   "outputs": [],
   "source": [
    "def stringColumn_to_integer(dataset,column):\n",
    "    # column = 4 ie class\n",
    "    class_values = [row[column] for row in dataset]\n",
    "#     print(\"the class_values is: \",class_values)\n",
    "#     print(type(class_values))\n",
    "#     print('\\n\\n')\n",
    "    unique_class_values = set(class_values)\n",
    "#     print(unique_class_values)\n",
    "    look_up_for = dict()\n",
    "    for i,values in enumerate(unique_class_values):\n",
    "#         print('\\n\\n')\n",
    "#         print(i,values)\n",
    "        look_up_for[values] = i\n",
    "        print('[%s] => %d'%(values,i))\n",
    "#         print(look_up_for)\n",
    "    for row in dataset:\n",
    "        row[column] = look_up_for[row[column]]\n",
    "    return look_up_for"
   ]
  },
  {
   "cell_type": "markdown",
   "metadata": {},
   "source": [
    "# K fold cross validation"
   ]
  },
  {
   "cell_type": "code",
   "execution_count": 6,
   "metadata": {},
   "outputs": [],
   "source": [
    "def k_fold_cross_validation(dataset, n_folds):\n",
    "    dataset_split = list()\n",
    "    dataset_copy = list(dataset)\n",
    "#     print(len(dataset)) == 150\n",
    "    fold_size = int(len(dataset) / n_folds)\n",
    "#     print(fold_size) == 30\n",
    "    for _ in range(n_folds):\n",
    "        fold = list()\n",
    "        while len(fold) < fold_size:\n",
    "            index = r.randrange(len(dataset_copy))\n",
    "            fold.append(dataset_copy.pop(index))\n",
    "#             https://www.geeksforgeeks.org/python-list-pop\n",
    "#             print(\"fold value is: \",fold)\n",
    "        dataset_split.append(fold)\n",
    "    return dataset_split"
   ]
  },
  {
   "cell_type": "markdown",
   "metadata": {},
   "source": [
    "https://machinelearningmastery.com/distance-measures-for-machine-learning/#:~:text=of%20Distance%20Measures-,Distance%20measures%20play%20an%20important%20role%20in%20machine%20learning.,objects%20in%20a%20problem%20domain.&text=Another%20unsupervised%20learning%20algorithm%20that,the%20K%2Dmeans%20clustering%20algorithm."
   ]
  },
  {
   "cell_type": "markdown",
   "metadata": {},
   "source": [
    "# Euclidean_distances"
   ]
  },
  {
   "cell_type": "code",
   "execution_count": 7,
   "metadata": {},
   "outputs": [],
   "source": [
    "def euclidean_distance(a, b):\n",
    "    a = a[:-1]\n",
    "    b = b[:-1]\n",
    "    return sqrt(sum((e1-e2)**2 for e1, e2 in zip(a,b)))"
   ]
  },
  {
   "cell_type": "markdown",
   "metadata": {},
   "source": [
    "# hamming_distance"
   ]
  },
  {
   "cell_type": "code",
   "execution_count": 8,
   "metadata": {},
   "outputs": [],
   "source": [
    "def hamming_distance(a, b):\n",
    "    a = a[:-1]\n",
    "    b = b[:-1]\n",
    "    return sum(abs(e1 - e2) for e1, e2 in zip(a, b)) / len(a)"
   ]
  },
  {
   "cell_type": "markdown",
   "metadata": {},
   "source": [
    "# calculate manhattan distance"
   ]
  },
  {
   "cell_type": "code",
   "execution_count": 9,
   "metadata": {},
   "outputs": [],
   "source": [
    "def manhattan_distance(a, b):\n",
    "    a = a[:-1]\n",
    "    b = b[:-1]\n",
    "    return sum(abs(e1-e2) for e1, e2 in zip(a,b))"
   ]
  },
  {
   "cell_type": "markdown",
   "metadata": {},
   "source": [
    "# calculating minkowski distance between vectors"
   ]
  },
  {
   "cell_type": "code",
   "execution_count": 10,
   "metadata": {},
   "outputs": [],
   "source": [
    "def minkowski_distance(a, b, p):\n",
    "    a = a[:-1]\n",
    "    b = b[:-1]\n",
    "    return sum(abs(e1-e2)**p for e1, e2 in zip(a,b))**(1/p)"
   ]
  },
  {
   "cell_type": "markdown",
   "metadata": {},
   "source": [
    "# Function to get neighbors"
   ]
  },
  {
   "cell_type": "code",
   "execution_count": 11,
   "metadata": {},
   "outputs": [],
   "source": [
    "def get_neighbors(train_set,test_row,number_of_neighbours):\n",
    "    euclidian_distances = list()\n",
    "    hamming_distances = list()\n",
    "    manhattan_distances = list()\n",
    "    minkowski_distances = list()\n",
    "    p = 2\n",
    "    \n",
    "    for train_row in train_set:\n",
    "        euclidean_dist = euclidean_distance(test_row,train_row)\n",
    "        hamming_dist = hamming_distance(test_row,train_row)\n",
    "        manhattan_dist = manhattan_distance(test_row,train_row)\n",
    "        minkowski_dist = minkowski_distance(test_row,train_row,p)\n",
    "        \n",
    "        euclidian_distances.append((train_row, euclidean_dist))\n",
    "        hamming_distances.append((train_row, hamming_dist))\n",
    "        manhattan_distances.append((train_row, manhattan_dist))\n",
    "        minkowski_distances.append((train_row, minkowski_dist))\n",
    "        \n",
    "    euclidian_distances.sort(key = lambda tup: tup[1])\n",
    "    hamming_distances.sort(key = lambda tup: tup[1])\n",
    "    manhattan_distances.sort(key = lambda tup: tup[1])\n",
    "    minkowski_distances.sort(key = lambda tup: tup[1])\n",
    "    \n",
    "    \n",
    "    euclidian_neighbors = list()\n",
    "    hamming_neighbors = list()\n",
    "    manhattan_neighbors = list()\n",
    "    minkowski_neighbors = list()\n",
    "    for i in range(number_of_neighbours):\n",
    "        euclidian_neighbors.append(euclidian_distances[i][0])\n",
    "        hamming_neighbors.append(hamming_distances[i][0])\n",
    "        manhattan_neighbors.append(manhattan_distances[i][0])\n",
    "        minkowski_neighbors.append(minkowski_distances[i][0])\n",
    "        \n",
    "    return euclidian_neighbors,hamming_neighbors,manhattan_neighbors,minkowski_neighbors\n",
    " "
   ]
  },
  {
   "cell_type": "markdown",
   "metadata": {},
   "source": [
    "# Function to Predict my classifiers"
   ]
  },
  {
   "cell_type": "code",
   "execution_count": 12,
   "metadata": {},
   "outputs": [],
   "source": [
    "def predict_classification(train_set,row,number_of_neighbours):\n",
    "    euclid_neighbors,hamming_neighbors,manhattan_neighbors,minkowski_neighbors= get_neighbors(train_set,row,number_of_neighbours)\n",
    "    \n",
    "    euclid_output = [row[-1] for row in euclid_neighbors]\n",
    "    euclid_prediction = max(set(euclid_output),key = euclid_output.count)\n",
    "    \n",
    "    hamming_output = [row[-1] for row in hamming_neighbors]\n",
    "    hamming_prediction = max(set(hamming_output),key = hamming_output.count)\n",
    "    \n",
    "    manhattan_output = [row[-1] for row in manhattan_neighbors]\n",
    "    manhattan_prediction = max(set(manhattan_output),key = manhattan_output.count)\n",
    "    \n",
    "    minkowski_output = [row[-1] for row in minkowski_neighbors]\n",
    "    minkowski_prediction = max(set(minkowski_output),key = minkowski_output.count)\n",
    "    \n",
    "    return euclid_prediction,hamming_prediction,manhattan_prediction,minkowski_prediction"
   ]
  },
  {
   "cell_type": "markdown",
   "metadata": {},
   "source": [
    "# KNN"
   ]
  },
  {
   "cell_type": "code",
   "execution_count": 13,
   "metadata": {},
   "outputs": [],
   "source": [
    "def k_nearest_neighbors(train_set,test_set, number_of_neighbours):\n",
    "    euclid_predictions = list()\n",
    "    hamming_predictions = list()\n",
    "    manhattan_predictions = list()\n",
    "    minkowski_predictions = list()\n",
    "    \n",
    "    for row in test_set:\n",
    "        euclid_predict_output,hamming_predict_output,manhattan_predict_output,minkowski_predict_output = predict_classification(train_set,row,number_of_neighbours)\n",
    "        \n",
    "        euclid_predictions.append(euclid_predict_output)\n",
    "        hamming_predictions.append(hamming_predict_output)\n",
    "        manhattan_predictions.append(manhattan_predict_output)\n",
    "        minkowski_predictions.append(minkowski_predict_output)\n",
    "        \n",
    "    return euclid_predictions,hamming_predictions,manhattan_predictions,minkowski_predictions"
   ]
  },
  {
   "cell_type": "markdown",
   "metadata": {},
   "source": [
    "# Accuray metric"
   ]
  },
  {
   "cell_type": "code",
   "execution_count": 14,
   "metadata": {},
   "outputs": [],
   "source": [
    "def accuracy_metrix(actual,prediction):\n",
    "    correct = 0\n",
    "    for i in range(len(actual)):\n",
    "        if actual[i] == prediction[i]:\n",
    "            correct += 1\n",
    "    return correct / float(len(actual))*100.0"
   ]
  },
  {
   "cell_type": "markdown",
   "metadata": {},
   "source": [
    "# Evaluation function"
   ]
  },
  {
   "cell_type": "code",
   "execution_count": 15,
   "metadata": {},
   "outputs": [],
   "source": [
    "def eval_algorithm(dataset,k_nearest_neighbors, n_folds, *args):\n",
    "    k_fold_data_set = k_fold_cross_validation(dataset, n_folds)\n",
    "    \n",
    "    euclid_prediction_score = list()\n",
    "    hamming_prediction_score = list()\n",
    "    manhattan_prediction_score = list()\n",
    "    minkowski_prediction_score = list()\n",
    "    \n",
    "    for fold in k_fold_data_set:\n",
    "        train_set = list(k_fold_data_set)\n",
    "        train_set.remove(fold)            #https://www.programiz.com/python-programming/methods/list/remove\n",
    "        train_set = sum(train_set,[])\n",
    "        test_set = list()\n",
    "        for row in fold:\n",
    "            row_copy = list(row)\n",
    "            test_set.append(row_copy)\n",
    "            row_copy[-1] = None\n",
    "            \n",
    "        euclid_prediction,hamming_prediction,manhattan_prediction,minkowski_prediction = k_nearest_neighbors(train_set,test_set, *args)\n",
    "        \n",
    "        actual = [row[-1] for row in fold]\n",
    "        \n",
    "        euclid_accuracy = accuracy_metrix(actual,euclid_prediction)\n",
    "        euclid_prediction_score.append(euclid_accuracy)\n",
    "        \n",
    "        hamming_accuracy = accuracy_metrix(actual,hamming_prediction)\n",
    "        hamming_prediction_score.append(hamming_accuracy)\n",
    "        \n",
    "        manhattan_accuracy = accuracy_metrix(actual,manhattan_prediction)\n",
    "        manhattan_prediction_score.append(manhattan_accuracy)\n",
    "        \n",
    "        minkowski_accuracy = accuracy_metrix(actual,minkowski_prediction)\n",
    "        minkowski_prediction_score.append(minkowski_accuracy)\n",
    "        \n",
    "    return euclid_prediction_score,hamming_prediction_score,manhattan_prediction_score,minkowski_prediction_score"
   ]
  },
  {
   "cell_type": "markdown",
   "metadata": {},
   "source": [
    "# Main function"
   ]
  },
  {
   "cell_type": "code",
   "execution_count": 16,
   "metadata": {},
   "outputs": [],
   "source": [
    "def main():\n",
    "    seed(1)    # generate the same random value each time i run my code rather then a new number\n",
    "    print(\"Enter 1 ---> car dataset, 2 -----> hayes-roth dataset, 3 -----> breast-cancer dataset, 4 ---> irish dataset\")\n",
    "    print(\"\\n\")\n",
    "    input_file = input(\"enter a number for dataset: \")\n",
    "    \n",
    "    if(input_file == '1'):\n",
    "        print(\"The Dataset is car\")\n",
    "        file_to_be_read = 'car.csv'\n",
    "        dataset = read_csv(file_to_be_read)\n",
    "        dataset = dataset[1:]\n",
    "        print(\"\\n\\n\")\n",
    "#         print(dataset)\n",
    "        print(\" Vectorized form \")\n",
    "        print(\" \")\n",
    "        for column in range(len(dataset[0])-1):\n",
    "#             print(\"the column is : \",column)\n",
    "            stringColumn_to_integer(dataset,column) \n",
    "        print(\"\\n\\n\")\n",
    "        print(\"class values\")\n",
    "        print(\" \")\n",
    "        stringColumn_to_integer(dataset,len(dataset[0])-1)\n",
    "    \n",
    "    \n",
    "    elif(input_file == '2'):\n",
    "        print(\"The Dataset is hayes-roth\")\n",
    "        file_to_be_read = 'hayes-roth.csv'\n",
    "        dataset = read_csv(file_to_be_read)\n",
    "        dataset = dataset[1:]\n",
    "        print(\"\\n\\n\")\n",
    "#         print(dataset)\n",
    "        print(\" Vectorized form \")\n",
    "        print(\" \")\n",
    "        for column in range(len(dataset[0])-1):\n",
    "            str_column_into_int(dataset,column)\n",
    "        print(\"\\n\\n\")\n",
    "        print(\"class values\")\n",
    "        print(\" \")\n",
    "        stringColumn_to_integer(dataset,len(dataset[0])-1)\n",
    "        \n",
    "    elif(input_file == '3'):\n",
    "        print(\"The Dataset is breast-cancer\")\n",
    "        file_to_be_read = 'breast-cancer.csv'\n",
    "        dataset = read_csv(file_to_be_read)\n",
    "        dataset = dataset[1:]\n",
    "        print(\"\\n\\n\")\n",
    "#         print(dataset)\n",
    "        print(\" Vectorized form \")\n",
    "        print(\" \")\n",
    "        for column in range(len(dataset[0])-1):\n",
    "            stringColumn_to_integer(dataset,column)\n",
    "        print(\"\\n\\n\")\n",
    "        print(\"class values\")\n",
    "        print(\" \")\n",
    "        stringColumn_to_integer(dataset,len(dataset[0])-1)\n",
    "        \n",
    "    elif(input_file == '4'):\n",
    "        print(\"The Dataset is irish\")\n",
    "        file_to_be_read = 'irish.csv'\n",
    "        dataset = read_csv(file_to_be_read)\n",
    "        dataset = dataset[1:]\n",
    "        print(\"\\n\\n\")\n",
    "#         print(dataset)\n",
    "        print(\" Vectorized form \")\n",
    "        print(\" \")\n",
    "        for column in range(len(dataset[0])-1):\n",
    "            #convert the column with string values into float [col:0,1,2,3]\n",
    "            str_column_into_float(dataset,column)\n",
    "        print(\"class values\")\n",
    "        print(\" \")\n",
    "        stringColumn_to_integer(dataset,len(dataset[0])-1)\n",
    "    \n",
    "#     print(dataset)\n",
    "    # algorithm\n",
    "    n_folds = 10\n",
    "    number_of_neighbours = 5\n",
    "    \n",
    "    euclid_prediction_score,hamming_prediction_score,manhattan_prediction_score,minkowski_prediction_score = eval_algorithm(dataset,k_nearest_neighbors, n_folds, number_of_neighbours)\n",
    "    print(\"\\n\\n\")\n",
    "    print(\"Euclid Predicted Score is: %s\" %euclid_prediction_score)\n",
    "    print(\"\")\n",
    "    print(\"Euclid Mean of accuracy: %.3f%%\" %(sum(euclid_prediction_score)/float(len(euclid_prediction_score))))\n",
    "    print(\"\\n\\n\")\n",
    "    \n",
    "    print(\"\\n\\n\")\n",
    "    print(\"Hamming Predicted Score is: %s\" %hamming_prediction_score)\n",
    "    print(\"\")\n",
    "    print(\"Hamming Mean of accuracy: %.3f%%\" %(sum(hamming_prediction_score)/float(len(hamming_prediction_score))))\n",
    "    print(\"\\n\\n\")\n",
    "    \n",
    "    print(\"\\n\\n\")\n",
    "    print(\"Manhattan Predicted Score is: %s\" %manhattan_prediction_score)\n",
    "    print(\"\")\n",
    "    print(\"Manhattan Mean of accuracy: %.3f%%\" %(sum(manhattan_prediction_score)/float(len(manhattan_prediction_score))))\n",
    "    print(\"\\n\\n\")\n",
    "    \n",
    "    print(\"\\n\\n\")\n",
    "    print(\"Minkowski Predicted Score is: %s\" %minkowski_prediction_score)\n",
    "    print(\"\")\n",
    "    print(\"Minkowski Mean of accuracy: %.3f%%\" %(sum(minkowski_prediction_score)/float(len(minkowski_prediction_score))))\n",
    "    print(\"\\n\\n\")\n",
    "    \n"
   ]
  },
  {
   "cell_type": "code",
   "execution_count": 17,
   "metadata": {
    "scrolled": false
   },
   "outputs": [
    {
     "name": "stdout",
     "output_type": "stream",
     "text": [
      "Enter 1 ---> car dataset, 2 -----> hayes-roth dataset, 3 -----> breast-cancer dataset, 4 ---> irish dataset\n",
      "\n",
      "\n",
      "enter a number for dataset: 1\n",
      "The Dataset is car\n",
      "\n",
      "\n",
      "\n",
      " Vectorized form \n",
      " \n",
      "[high] => 0\n",
      "[low] => 1\n",
      "[med] => 2\n",
      "[vhigh] => 3\n",
      "[high] => 0\n",
      "[low] => 1\n",
      "[med] => 2\n",
      "[vhigh] => 3\n",
      "[2] => 0\n",
      "[3] => 1\n",
      "[5more] => 2\n",
      "[4] => 3\n",
      "[2] => 0\n",
      "[more] => 1\n",
      "[4] => 2\n",
      "[small] => 0\n",
      "[med] => 1\n",
      "[big] => 2\n",
      "[high] => 0\n",
      "[low] => 1\n",
      "[med] => 2\n",
      "\n",
      "\n",
      "\n",
      "class values\n",
      " \n",
      "[good] => 0\n",
      "[unacc] => 1\n",
      "[acc] => 2\n",
      "[vgood] => 3\n",
      "\n",
      "\n",
      "\n",
      "Euclid Predicted Score is: [90.11627906976744, 89.53488372093024, 91.86046511627907, 88.95348837209302, 91.86046511627907, 91.27906976744185, 87.79069767441861, 90.69767441860465, 87.20930232558139, 91.86046511627907]\n",
      "\n",
      "Euclid Mean of accuracy: 90.116%\n",
      "\n",
      "\n",
      "\n",
      "\n",
      "\n",
      "\n",
      "Hamming Predicted Score is: [90.11627906976744, 89.53488372093024, 91.86046511627907, 88.95348837209302, 91.86046511627907, 91.27906976744185, 87.79069767441861, 90.69767441860465, 87.20930232558139, 91.86046511627907]\n",
      "\n",
      "Hamming Mean of accuracy: 90.116%\n",
      "\n",
      "\n",
      "\n",
      "\n",
      "\n",
      "\n",
      "Manhattan Predicted Score is: [90.11627906976744, 89.53488372093024, 91.86046511627907, 88.95348837209302, 91.86046511627907, 91.27906976744185, 87.79069767441861, 90.69767441860465, 87.20930232558139, 91.86046511627907]\n",
      "\n",
      "Manhattan Mean of accuracy: 90.116%\n",
      "\n",
      "\n",
      "\n",
      "\n",
      "\n",
      "\n",
      "Minkowski Predicted Score is: [90.11627906976744, 89.53488372093024, 91.86046511627907, 88.95348837209302, 91.86046511627907, 91.27906976744185, 87.79069767441861, 90.69767441860465, 87.20930232558139, 91.86046511627907]\n",
      "\n",
      "Minkowski Mean of accuracy: 90.116%\n",
      "\n",
      "\n",
      "\n"
     ]
    }
   ],
   "source": [
    "if __name__ == '__main__':\n",
    "    main()"
   ]
  },
  {
   "cell_type": "code",
   "execution_count": null,
   "metadata": {},
   "outputs": [],
   "source": []
  }
 ],
 "metadata": {
  "kernelspec": {
   "display_name": "Python 3",
   "language": "python",
   "name": "python3"
  },
  "language_info": {
   "codemirror_mode": {
    "name": "ipython",
    "version": 3
   },
   "file_extension": ".py",
   "mimetype": "text/x-python",
   "name": "python",
   "nbconvert_exporter": "python",
   "pygments_lexer": "ipython3",
   "version": "3.8.3"
  }
 },
 "nbformat": 4,
 "nbformat_minor": 4
}
